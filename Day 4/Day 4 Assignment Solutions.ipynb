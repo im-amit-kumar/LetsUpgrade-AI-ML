{
 "cells": [
  {
   "cell_type": "markdown",
   "metadata": {},
   "source": [
    " ##  1. Research on whether addition, subtraction, multiplication, division, floor division and modulo operations be performed on complex numbers. Based on your study, implement a Python program to demonstrate these operations."
   ]
  },
  {
   "cell_type": "markdown",
   "metadata": {},
   "source": [
    "### Ans:- In this question i have to research that whether addition, subtraction, multiplication, division, floor division and modulo operations be performed on complex numbers.So, Based on my resaerch on complex numbers I came to an point that  we can only perform addition,multiplication ,addition, subtraction, multiplication, division on complex numbers.All these operations works completely fine.#but if I try to perform floor division and modulo operations be performed on complex numbers.It shows  me errrors like if i am going to perform floor divison it shows me the error like TypeError: can't take floor of complex  number and if I am  going to perform modulus operation it shows me error like TypeError: can't mod complex numbers.So, I can perform only addition, subtraction, multiplication, division of complex numbers and if am going to perform operations like floor division and modulo operations i will face errors.Through Implementation i will show everythingh to you the result and the errors."
   ]
  },
  {
   "cell_type": "code",
   "execution_count": 1,
   "metadata": {},
   "outputs": [
    {
     "name": "stdout",
     "output_type": "stream",
     "text": [
      "showing implementation of operations that we can only perform in Complex Numbers suchs as Addition, Subtraction, Divison.\n",
      "\n",
      " First Complex Number (4+4j) \n",
      " Second Complex Number (1+1j) \n",
      " Addition Oeration (5+5j) \n",
      " Subtraction Oeration (3+3j) \n",
      " Multiplication Oeration 8j \n",
      " Division Oeration (4+0j)\n"
     ]
    }
   ],
   "source": [
    "print(\"showing implementation of operations that we can only perform in Complex Numbers suchs as Addition, Subtraction, Divison.\\n\")\n",
    "c = complex(4,4)\n",
    "d = complex(1,1)\n",
    "e = c-d # Subtraction\n",
    "f = c +d # Addition\n",
    "g = c * d # Multiplication\n",
    "h = c / d # Divison  \n",
    "print(\" First Complex Number\",c,\"\\n Second Complex Number\" ,d,\"\\n Addition Oeration\" , f,\"\\n Subtraction Oeration\",e,\"\\n Multiplication Oeration\",g,\"\\n Division Oeration\",h)"
   ]
  },
  {
   "cell_type": "markdown",
   "metadata": {},
   "source": [
    "##### Now here I will try to implement floor division operatrion on Complex Number and I will show what error it will shows:\n"
   ]
  },
  {
   "cell_type": "code",
   "execution_count": 2,
   "metadata": {},
   "outputs": [
    {
     "ename": "TypeError",
     "evalue": "can't take floor of complex number.",
     "output_type": "error",
     "traceback": [
      "\u001b[1;31m---------------------------------------------------------------------------\u001b[0m",
      "\u001b[1;31mTypeError\u001b[0m                                 Traceback (most recent call last)",
      "\u001b[1;32m<ipython-input-2-bf56daf8080a>\u001b[0m in \u001b[0;36m<module>\u001b[1;34m\u001b[0m\n\u001b[0;32m      1\u001b[0m \u001b[0mc\u001b[0m \u001b[1;33m=\u001b[0m \u001b[0mcomplex\u001b[0m\u001b[1;33m(\u001b[0m\u001b[1;36m4\u001b[0m\u001b[1;33m,\u001b[0m\u001b[1;36m4\u001b[0m\u001b[1;33m)\u001b[0m\u001b[1;33m\u001b[0m\u001b[1;33m\u001b[0m\u001b[0m\n\u001b[0;32m      2\u001b[0m \u001b[0md\u001b[0m \u001b[1;33m=\u001b[0m \u001b[0mcomplex\u001b[0m\u001b[1;33m(\u001b[0m\u001b[1;36m1\u001b[0m\u001b[1;33m,\u001b[0m\u001b[1;36m1\u001b[0m\u001b[1;33m)\u001b[0m\u001b[1;33m\u001b[0m\u001b[1;33m\u001b[0m\u001b[0m\n\u001b[1;32m----> 3\u001b[1;33m \u001b[0mi\u001b[0m \u001b[1;33m=\u001b[0m \u001b[0mc\u001b[0m \u001b[1;33m//\u001b[0m \u001b[0md\u001b[0m\u001b[1;33m\u001b[0m\u001b[1;33m\u001b[0m\u001b[0m\n\u001b[0m",
      "\u001b[1;31mTypeError\u001b[0m: can't take floor of complex number."
     ]
    }
   ],
   "source": [
    "c = complex(4,4)\n",
    "d = complex(1,1)\n",
    "i = c // d"
   ]
  },
  {
   "cell_type": "markdown",
   "metadata": {},
   "source": [
    "#### Now here I will try to implement modulo operation on Complex Number and I will show what error it will shows:\n"
   ]
  },
  {
   "cell_type": "code",
   "execution_count": 3,
   "metadata": {},
   "outputs": [
    {
     "ename": "TypeError",
     "evalue": "can't mod complex numbers.",
     "output_type": "error",
     "traceback": [
      "\u001b[1;31m---------------------------------------------------------------------------\u001b[0m",
      "\u001b[1;31mTypeError\u001b[0m                                 Traceback (most recent call last)",
      "\u001b[1;32m<ipython-input-3-e361aa1215a0>\u001b[0m in \u001b[0;36m<module>\u001b[1;34m\u001b[0m\n\u001b[0;32m      1\u001b[0m \u001b[0mc\u001b[0m \u001b[1;33m=\u001b[0m \u001b[0mcomplex\u001b[0m\u001b[1;33m(\u001b[0m\u001b[1;36m4\u001b[0m\u001b[1;33m,\u001b[0m\u001b[1;36m4\u001b[0m\u001b[1;33m)\u001b[0m\u001b[1;33m\u001b[0m\u001b[1;33m\u001b[0m\u001b[0m\n\u001b[0;32m      2\u001b[0m \u001b[0md\u001b[0m \u001b[1;33m=\u001b[0m \u001b[0mcomplex\u001b[0m\u001b[1;33m(\u001b[0m\u001b[1;36m1\u001b[0m\u001b[1;33m,\u001b[0m\u001b[1;36m1\u001b[0m\u001b[1;33m)\u001b[0m\u001b[1;33m\u001b[0m\u001b[1;33m\u001b[0m\u001b[0m\n\u001b[1;32m----> 3\u001b[1;33m \u001b[0mj\u001b[0m \u001b[1;33m=\u001b[0m \u001b[0mc\u001b[0m\u001b[1;33m%\u001b[0m \u001b[0md\u001b[0m\u001b[1;33m\u001b[0m\u001b[1;33m\u001b[0m\u001b[0m\n\u001b[0m",
      "\u001b[1;31mTypeError\u001b[0m: can't mod complex numbers."
     ]
    }
   ],
   "source": [
    "c = complex(4,4)\n",
    "d = complex(1,1)\n",
    "j = c% d"
   ]
  },
  {
   "cell_type": "markdown",
   "metadata": {},
   "source": [
    "## 2 : Research on range() functions and its parameters. Create a markdown cell and write in your own words (no copy-paste from google please) what you understand about it. Implement a small program of your choice on the same.\n"
   ]
  },
  {
   "cell_type": "markdown",
   "metadata": {},
   "source": [
    "#### Ans:- Python range() Function is a built-in Function in Python that is used to iterate over a sequence of numbers basically this function  returns a sequence of numbers, starting from 0 by default, and increments by 1 (by default), and stops before a specified number.\n",
    "#### Syntax OF Python Range Function is  : range(Beg , End , [step])\n",
    "#### Beg :- It is Optional in python range function.It is an integer number specifying at which position the range function will start.The      default value is 0 for Beg.\n",
    "#### End :- It is  Required in python range function.It is an integer number specifying at which position to stop (not included).\n",
    "#### Step :-  It is  Optional.It is an  integer number specifying the incrementation.The default value of incrementation is 1.\n",
    "\n",
    "#### Let Us Understand it by implementing a Python Range Function Progeram.\n",
    "\n",
    "\n",
    "\n"
   ]
  },
  {
   "cell_type": "code",
   "execution_count": 4,
   "metadata": {},
   "outputs": [
    {
     "name": "stdout",
     "output_type": "stream",
     "text": [
      "1\n",
      "3\n",
      "5\n",
      "7\n",
      "9\n",
      "11\n",
      "13\n",
      "15\n",
      "17\n",
      "19\n"
     ]
    },
    {
     "data": {
      "text/plain": [
       "'Here I am running for loop with range function.1 is Begining or starting value of loop, 20 is the end value of loop\\nand 2 is the incrementataion step.'"
      ]
     },
     "execution_count": 4,
     "metadata": {},
     "output_type": "execute_result"
    }
   ],
   "source": [
    "# Python Program of implementing Range Function\n",
    "for i in range(1,20,2):\n",
    "    print(i)\n",
    "'''Here I am running for loop with range function.1 is Begining or starting value of loop, 20 is the end value of loop\n",
    "and 2 is the incrementataion step.'''"
   ]
  },
  {
   "cell_type": "markdown",
   "metadata": {},
   "source": [
    "### 3.Consider two numbers. Perform their subtraction and if the result of subtraction is greater than 25, print their multiplication result else print their division result"
   ]
  },
  {
   "cell_type": "code",
   "execution_count": 5,
   "metadata": {},
   "outputs": [
    {
     "name": "stdout",
     "output_type": "stream",
     "text": [
      "Enter the first Numbers 109\n",
      "Enter the second Numbers 11\n",
      "Subtraction of two Numbers is: \n",
      "Multiplication Result of Two Numbers is :-  1199\n"
     ]
    }
   ],
   "source": [
    "a = int(input(\"Enter the first Numbers \"))\n",
    "b = int(input(\"Enter the second Numbers \"))\n",
    "c = a - b\n",
    "print(\"Subtraction of two Numbers is: \")\n",
    "if c > 25:\n",
    "    d = a * b\n",
    "    print(\"Multiplication Result of Two Numbers is :- \",d)\n",
    "else:\n",
    "    e = a / b\n",
    "    print(\"Divivson Result  of Two Numbers \",e)"
   ]
  },
  {
   "cell_type": "markdown",
   "metadata": {},
   "source": [
    "## 4. Consider a list of 10 elements of integer values. If the number in the list is divisible by 2, print the result as \"square of that number minus 2\""
   ]
  },
  {
   "cell_type": "code",
   "execution_count": 6,
   "metadata": {},
   "outputs": [
    {
     "name": "stdout",
     "output_type": "stream",
     "text": [
      "square of 10  minus 2 is  98\n",
      "square of 20  minus 2 is  398\n",
      "square of 40  minus 2 is  1598\n",
      "square of 56  minus 2 is  3134\n",
      "square of 78  minus 2 is  6082\n",
      "square of 98  minus 2 is  9602\n"
     ]
    }
   ],
   "source": [
    "l = [10,20,40,56,67,78,89,98,101,999]\n",
    "for i in l:\n",
    "    if i%2==0:\n",
    "        a = i**2 -2\n",
    "        print(\"square of\",i,\" minus 2 is \",a )"
   ]
  },
  {
   "cell_type": "markdown",
   "metadata": {},
   "source": [
    "### 5. Consider a list of 10 elements. Print all the elements in the list which are greater than 7 when that number is divided 2."
   ]
  },
  {
   "cell_type": "code",
   "execution_count": 7,
   "metadata": {},
   "outputs": [
    {
     "name": "stdout",
     "output_type": "stream",
     "text": [
      "Numbers when divided by 2 gives the value greater than 7 are as follows 20\n",
      "Numbers when divided by 2 gives the value greater than 7 are as follows 40\n",
      "Numbers when divided by 2 gives the value greater than 7 are as follows 56\n",
      "Numbers when divided by 2 gives the value greater than 7 are as follows 67\n",
      "Numbers when divided by 2 gives the value greater than 7 are as follows 78\n",
      "Numbers when divided by 2 gives the value greater than 7 are as follows 89\n",
      "Numbers when divided by 2 gives the value greater than 7 are as follows 98\n",
      "Numbers when divided by 2 gives the value greater than 7 are as follows 101\n",
      "Numbers when divided by 2 gives the value greater than 7 are as follows 999\n"
     ]
    }
   ],
   "source": [
    "l = [10,20,40,56,67,78,89,98,101,999]\n",
    "for i in l:\n",
    "    if i/2>7:\n",
    "        print(\"Numbers when divided by 2 gives the value greater than 7 are as follows\",i)\n"
   ]
  },
  {
   "cell_type": "code",
   "execution_count": null,
   "metadata": {},
   "outputs": [],
   "source": []
  },
  {
   "cell_type": "code",
   "execution_count": null,
   "metadata": {},
   "outputs": [],
   "source": []
  }
 ],
 "metadata": {
  "kernelspec": {
   "display_name": "Python 3",
   "language": "python",
   "name": "python3"
  },
  "language_info": {
   "codemirror_mode": {
    "name": "ipython",
    "version": 3
   },
   "file_extension": ".py",
   "mimetype": "text/x-python",
   "name": "python",
   "nbconvert_exporter": "python",
   "pygments_lexer": "ipython3",
   "version": "3.7.6"
  }
 },
 "nbformat": 4,
 "nbformat_minor": 4
}
