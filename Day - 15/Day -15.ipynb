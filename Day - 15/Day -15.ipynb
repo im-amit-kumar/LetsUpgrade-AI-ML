{
 "cells": [
  {
   "cell_type": "markdown",
   "metadata": {},
   "source": [
    "# 1. Create a 3x3x3 array with random values "
   ]
  },
  {
   "cell_type": "code",
   "execution_count": 1,
   "metadata": {},
   "outputs": [
    {
     "name": "stdout",
     "output_type": "stream",
     "text": [
      "[[[8.74515184e-01 4.78182830e-01 8.88023352e-01]\n",
      "  [4.19856039e-01 2.90163295e-01 6.25293402e-01]\n",
      "  [4.31936883e-02 8.72451837e-01 8.78093700e-04]]\n",
      "\n",
      " [[3.73124090e-01 4.00715059e-01 9.67518096e-01]\n",
      "  [8.75245299e-01 6.40281337e-01 6.76469663e-01]\n",
      "  [8.33054612e-01 7.64377967e-01 8.26436550e-01]]\n",
      "\n",
      " [[8.49105156e-01 6.62242642e-01 7.72902827e-01]\n",
      "  [4.99073735e-01 5.35498436e-02 6.19122760e-01]\n",
      "  [1.65576750e-01 7.46741527e-01 4.78470997e-01]]]\n"
     ]
    }
   ],
   "source": [
    "import numpy as np\n",
    "x=np.random.random((3,3,3))\n",
    "print(x)"
   ]
  },
  {
   "cell_type": "markdown",
   "metadata": {},
   "source": [
    "# 2.Create a 5x5 matrix with values 1,2,3,4 just below the diagonal"
   ]
  },
  {
   "cell_type": "code",
   "execution_count": 2,
   "metadata": {},
   "outputs": [
    {
     "name": "stdout",
     "output_type": "stream",
     "text": [
      "[[0 0 0 0 0]\n",
      " [1 0 0 0 0]\n",
      " [0 2 0 0 0]\n",
      " [0 0 3 0 0]\n",
      " [0 0 0 4 0]]\n"
     ]
    }
   ],
   "source": [
    "z = np.diag(1 +np.arange(4),k=-1)\n",
    "print(z)"
   ]
  },
  {
   "cell_type": "markdown",
   "metadata": {},
   "source": [
    "# 3.Create a 8x8 matrix and fill it with a checkerboard pattern"
   ]
  },
  {
   "cell_type": "code",
   "execution_count": 3,
   "metadata": {},
   "outputs": [
    {
     "name": "stdout",
     "output_type": "stream",
     "text": [
      "[[0. 1. 0. 1. 0. 1. 0. 1.]\n",
      " [1. 0. 1. 0. 1. 0. 1. 0.]\n",
      " [0. 1. 0. 1. 0. 1. 0. 1.]\n",
      " [1. 0. 1. 0. 1. 0. 1. 0.]\n",
      " [0. 1. 0. 1. 0. 1. 0. 1.]\n",
      " [1. 0. 1. 0. 1. 0. 1. 0.]\n",
      " [0. 1. 0. 1. 0. 1. 0. 1.]\n",
      " [1. 0. 1. 0. 1. 0. 1. 0.]]\n"
     ]
    }
   ],
   "source": [
    "z = np.zeros((8,8))\n",
    "z[1::2,::2] =1\n",
    "z[::2,1::2]=1\n",
    "print(z)"
   ]
  },
  {
   "cell_type": "markdown",
   "metadata": {},
   "source": [
    "# 4. Normalize a 5x5 random matrix"
   ]
  },
  {
   "cell_type": "code",
   "execution_count": 4,
   "metadata": {},
   "outputs": [
    {
     "name": "stdout",
     "output_type": "stream",
     "text": [
      "Original Array\n",
      "\n",
      "[[0.34740397 0.06029381 0.30300216 0.73436363 0.18404484]\n",
      " [0.34445933 0.46541867 0.6930827  0.51088959 0.76517899]\n",
      " [0.04483992 0.04500098 0.01189355 0.69376589 0.85325021]\n",
      " [0.4812256  0.81979398 0.95002691 0.63642831 0.56036216]\n",
      " [0.29011957 0.66946317 0.26447021 0.0437857  0.44521242]]\n",
      "After normalization\n",
      "\n",
      "[[-0.55675015 -0.05439862 -0.44991882 -3.34999124 -0.22474585]\n",
      " [-0.5491803  -0.93585928 -2.65111702 -1.13630982 -4.07516316]\n",
      " [-0.03639731 -0.03658174 -0.         -2.66085081 -8.69379356]\n",
      " [-1.00113212 -6.20350359         inf -1.99151006 -1.40753975]\n",
      " [-0.42161376 -2.3437442  -0.36842563 -0.03519168 -0.85837248]]\n"
     ]
    },
    {
     "name": "stderr",
     "output_type": "stream",
     "text": [
      "c:\\users\\amit\\appdata\\local\\programs\\python\\python37\\lib\\site-packages\\ipykernel_launcher.py:6: RuntimeWarning: divide by zero encountered in true_divide\n",
      "  \n"
     ]
    }
   ],
   "source": [
    "import numpy as np\n",
    "x = np.random.random((5,5))\n",
    "print(\"Original Array\\n\")\n",
    "print(x)\n",
    "xmax , xmin = x.max() , x.min()\n",
    "x = (x - xmin)/(x - xmax)\n",
    "\n",
    "print(\"After normalization\\n\")\n",
    "print(x)"
   ]
  },
  {
   "cell_type": "markdown",
   "metadata": {},
   "source": [
    "# 5.  How to find common values between two arrays?"
   ]
  },
  {
   "cell_type": "code",
   "execution_count": 5,
   "metadata": {},
   "outputs": [
    {
     "name": "stdout",
     "output_type": "stream",
     "text": [
      "[10 20 30 40 60] \n",
      " [    30     20    100 122222  12000]\n",
      "Common values between 2 array\n",
      " [20 30]\n"
     ]
    }
   ],
   "source": [
    "x = np.array([10,20,30,40,60])\n",
    "y = np.array([30,20,100,122222,12000])\n",
    "print(x,\"\\n\",y)\n",
    "z = np.intersect1d(x,y)\n",
    "print(\"Common values between 2 array\\n\",z)"
   ]
  },
  {
   "cell_type": "markdown",
   "metadata": {},
   "source": [
    "# 6.How to get the dates of yesterday, today and tomorrow?"
   ]
  },
  {
   "cell_type": "code",
   "execution_count": 6,
   "metadata": {},
   "outputs": [
    {
     "name": "stdout",
     "output_type": "stream",
     "text": [
      "yesterday 2020-07-27\n",
      "today 2020-07-28\n",
      "tomorrow 2020-07-29\n"
     ]
    }
   ],
   "source": [
    "import numpy as np\n",
    "yesterday = np.datetime64('today','D') - np.timedelta64(1,'D')\n",
    "print(\"yesterday\",yesterday)\n",
    "today = np.datetime64('today','D')\n",
    "print(\"today\",today)\n",
    "tommorrow = np.datetime64('today','D') + np.timedelta64(1,'D')\n",
    "print(\"tomorrow\",tommorrow)"
   ]
  },
  {
   "cell_type": "markdown",
   "metadata": {},
   "source": [
    "# 7. Consider two random array A and B, check if they are equal"
   ]
  },
  {
   "cell_type": "code",
   "execution_count": 7,
   "metadata": {},
   "outputs": [
    {
     "name": "stdout",
     "output_type": "stream",
     "text": [
      "first array\n",
      " [3 2 5 6 6 2]\n",
      "Second Array\n",
      " [8 2 5 1 4 8]\n",
      "IS all arrays are equal  False\n"
     ]
    }
   ],
   "source": [
    "x = np.random.randint(1,9,6)\n",
    "y = np.random.randint(1,9,6)\n",
    "print(\"first array\\n\",x)\n",
    "print(\"Second Array\\n\",y)\n",
    "z = np.allclose(x,y)\n",
    "print(\"IS all arrays are equal \",z)"
   ]
  },
  {
   "cell_type": "markdown",
   "metadata": {},
   "source": [
    "# 8.Create random vector of size 10 and replace the maximum value by 0 "
   ]
  },
  {
   "cell_type": "code",
   "execution_count": 8,
   "metadata": {},
   "outputs": [
    {
     "name": "stdout",
     "output_type": "stream",
     "text": [
      "Array\n",
      " [0.57852935 0.70918045 0.01921129 0.30842257 0.68866431 0.17744312\n",
      " 0.66679571 0.6808368  0.8433278  0.54749876]\n",
      "Max Array is replaced by\n",
      " [0.57852935 0.70918045 0.01921129 0.30842257 0.68866431 0.17744312\n",
      " 0.66679571 0.6808368  0.         0.54749876]\n"
     ]
    }
   ],
   "source": [
    "import numpy as np\n",
    "x = np.random.random(10)\n",
    "print(\"Array\\n\",x)\n",
    "x[x.argmax()] = 0\n",
    "print(\"Max Array is replaced by\\n\",x)"
   ]
  },
  {
   "cell_type": "markdown",
   "metadata": {},
   "source": [
    "# 9. How to print all the values of an array?"
   ]
  },
  {
   "cell_type": "code",
   "execution_count": 9,
   "metadata": {},
   "outputs": [
    {
     "name": "stdout",
     "output_type": "stream",
     "text": [
      "[[0. 0. 0. 0. 0.]\n",
      " [0. 0. 0. 0. 0.]\n",
      " [0. 0. 0. 0. 0.]\n",
      " [0. 0. 0. 0. 0.]\n",
      " [0. 0. 0. 0. 0.]]\n"
     ]
    }
   ],
   "source": [
    "np.set_printoptions(threshold=None)\n",
    "z = np.zeros((5,5))\n",
    "print(z)"
   ]
  },
  {
   "cell_type": "markdown",
   "metadata": {},
   "source": [
    "# 10.Subtract the mean of each row of a matrix"
   ]
  },
  {
   "cell_type": "code",
   "execution_count": 10,
   "metadata": {},
   "outputs": [
    {
     "name": "stdout",
     "output_type": "stream",
     "text": [
      "Matrix\n",
      " [[0.05710518 0.14017793 0.10976379 0.99392653 0.08681344]\n",
      " [0.34883384 0.86213798 0.43070232 0.08436362 0.15001272]\n",
      " [0.33751619 0.20221499 0.54607369 0.80211556 0.91547702]\n",
      " [0.01365864 0.85552909 0.66924865 0.99403552 0.97806813]\n",
      " [0.33187794 0.70290581 0.30519018 0.54896825 0.80446231]]\n",
      "Subtraction after each row of a matrix\n",
      " [[-0.2204522  -0.13737944 -0.16779359  0.71636916 -0.19074393]\n",
      " [-0.02637626  0.48692788  0.05549222 -0.29084648 -0.22519737]\n",
      " [-0.2231633  -0.3584645  -0.0146058   0.24143608  0.35479753]\n",
      " [-0.68844937  0.15342108 -0.03285936  0.29192751  0.27596013]\n",
      " [-0.20680296  0.16422491 -0.23349072  0.01028735  0.26578141]]\n"
     ]
    }
   ],
   "source": [
    "import numpy as np\n",
    "x = np.random.random((5,5))\n",
    "print(\"Matrix\\n\",x)\n",
    "y = x - x.mean(axis =1,keepdims = True)\n",
    "print(\"Subtraction after each row of a matrix\\n\",y)"
   ]
  },
  {
   "cell_type": "markdown",
   "metadata": {},
   "source": [
    "# 11.Consider a given vector, how to add 1 to each element indexed by a second vector (be careful with repeated indices)? "
   ]
  },
  {
   "cell_type": "code",
   "execution_count": 11,
   "metadata": {},
   "outputs": [],
   "source": [
    "z = np.ones(10)\n",
    "i = np.random.randint(0,len(z),20)"
   ]
  },
  {
   "cell_type": "code",
   "execution_count": 12,
   "metadata": {},
   "outputs": [
    {
     "name": "stdout",
     "output_type": "stream",
     "text": [
      "[1. 2. 5. 5. 4. 3. 3. 2. 3. 2.]\n"
     ]
    }
   ],
   "source": [
    "z += np.bincount(i , minlength = len(z))\n",
    "print(z)"
   ]
  },
  {
   "cell_type": "markdown",
   "metadata": {},
   "source": [
    "# 12.How to get the diagonal of a dot product?"
   ]
  },
  {
   "cell_type": "code",
   "execution_count": 13,
   "metadata": {},
   "outputs": [
    {
     "name": "stdout",
     "output_type": "stream",
     "text": [
      "a\n",
      " [[0 4 5]\n",
      " [4 4 6]\n",
      " [6 3 6]]\n",
      "b\n",
      " [[1 3 3]\n",
      " [2 6 7]\n",
      " [3 2 7]]\n",
      "[23 48 81]\n"
     ]
    }
   ],
   "source": [
    "a = np.random.randint(0,10,(3,3))\n",
    "print(\"a\\n\",a)\n",
    "b = np.random.randint(0,10,(3,3))\n",
    "print(\"b\\n\",b)\n",
    "z=np.diag(np.dot(a,b))\n",
    "print(z)"
   ]
  },
  {
   "cell_type": "markdown",
   "metadata": {},
   "source": [
    "# 13.How to find the most frequent value in an array?"
   ]
  },
  {
   "cell_type": "code",
   "execution_count": 14,
   "metadata": {},
   "outputs": [
    {
     "name": "stdout",
     "output_type": "stream",
     "text": [
      "[8 0 6 0 9 2 4 1 2 1 4 7 9 6 8 9 9 2 9 0 6 4 0 3 4 5 8 2 8 4 1 6 9 3 6 6 2\n",
      " 8 5 5 8 6 1 3 3 8 6 0 5 7]\n",
      "rank: 6\n"
     ]
    }
   ],
   "source": [
    "Z = np.random.randint(0,10,50)\n",
    "print (Z)\n",
    "print('rank:', np.bincount(Z).argmax())"
   ]
  },
  {
   "cell_type": "markdown",
   "metadata": {},
   "source": [
    "# 14.How to get the n largest values of an array"
   ]
  },
  {
   "cell_type": "code",
   "execution_count": 15,
   "metadata": {},
   "outputs": [
    {
     "name": "stdout",
     "output_type": "stream",
     "text": [
      "N largest values of an array\n",
      " [9995 9996 9997 9998 9999]\n",
      "N largest values of an array\n",
      " [9998 9999 9997 9996 9995]\n"
     ]
    }
   ],
   "source": [
    "Z = np.arange(10000)\n",
    "np.random.shuffle(Z)\n",
    "n = 5\n",
    "\n",
    "# Slow\n",
    "print (\"N largest values of an array\\n\",Z[np.argsort(Z)[-n:]])\n",
    "\n",
    "# Fast\n",
    "print (\"N largest values of an array\\n\",Z[np.argpartition(-Z,n)[:n]])"
   ]
  },
  {
   "cell_type": "markdown",
   "metadata": {},
   "source": [
    "# 15.How to create a record array from a regular array?"
   ]
  },
  {
   "cell_type": "code",
   "execution_count": 16,
   "metadata": {},
   "outputs": [
    {
     "name": "stdout",
     "output_type": "stream",
     "text": [
      "[(b'hello', 3.6, 2) (b'world', 2.8, 1)]\n"
     ]
    }
   ],
   "source": [
    "z = np.array([(\"hello\",3.6,2),\n",
    "             (\"world\",2.8,1)])\n",
    "r = np.core.records.fromarrays(z.T,\n",
    "                         names = 'col1,col2,col3' ,\n",
    "                         formats ='S8, f8, i8' )\n",
    "print(r)"
   ]
  },
  {
   "cell_type": "code",
   "execution_count": null,
   "metadata": {},
   "outputs": [],
   "source": []
  }
 ],
 "metadata": {
  "kernelspec": {
   "display_name": "Python 3",
   "language": "python",
   "name": "python3"
  },
  "language_info": {
   "codemirror_mode": {
    "name": "ipython",
    "version": 3
   },
   "file_extension": ".py",
   "mimetype": "text/x-python",
   "name": "python",
   "nbconvert_exporter": "python",
   "pygments_lexer": "ipython3",
   "version": "3.7.6"
  }
 },
 "nbformat": 4,
 "nbformat_minor": 2
}
