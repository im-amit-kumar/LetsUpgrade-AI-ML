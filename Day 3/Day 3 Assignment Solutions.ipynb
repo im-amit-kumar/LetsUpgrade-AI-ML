{
 "cells": [
  {
   "cell_type": "markdown",
   "metadata": {},
   "source": [
    "###  1. Write a program to subtract two complex numbers in Python.\n"
   ]
  },
  {
   "cell_type": "code",
   "execution_count": 1,
   "metadata": {},
   "outputs": [
    {
     "name": "stdout",
     "output_type": "stream",
     "text": [
      "subtracted complex number without function (3+1j)\n",
      "subtracted complex number with function (2+1j)\n"
     ]
    }
   ],
   "source": [
    "#without function \n",
    "c = 4 + 2j\n",
    "d = 1 + 1j\n",
    "e = c-d\n",
    "print(\"subtracted complex number without function\",e)\n",
    "\n",
    "#with function\n",
    "def complex_subtraction(z1 ,z2):\n",
    "    return z1 - z2\n",
    "a = complex(3,2)\n",
    "b = complex(1,1)\n",
    "print(\"subtracted complex number with function\",complex_subtraction(a,b))"
   ]
  },
  {
   "cell_type": "markdown",
   "metadata": {},
   "source": [
    "## 2. Write a program to find the fourth root of a number."
   ]
  },
  {
   "cell_type": "code",
   "execution_count": 2,
   "metadata": {},
   "outputs": [
    {
     "name": "stdout",
     "output_type": "stream",
     "text": [
      "fourth square root of a number 5.623413251903491\n",
      "Enter a number for user defined fourth square root12000\n",
      "user defined fourth square root 10.466351393921055\n",
      "fourth square root using function  10.466351393921055\n"
     ]
    }
   ],
   "source": [
    "a = 1000\n",
    "a = a ** 0.25\n",
    "print(\"fourth square root of a number\",a)\n",
    "b = int(input(\"Enter a number for user defined fourth square root\"))\n",
    "c = b ** 0.25\n",
    "print(\"user defined fourth square root\",c)\n",
    "def fourth_square_root(b):\n",
    "    e = b ** 0.25\n",
    "    print(\"fourth square root using function \",e)\n",
    "fourth_square_root(b)"
   ]
  },
  {
   "cell_type": "markdown",
   "metadata": {},
   "source": [
    "## 3. Write a program to swap two numbers in Python with the help of a temporary variable."
   ]
  },
  {
   "cell_type": "code",
   "execution_count": 3,
   "metadata": {},
   "outputs": [
    {
     "name": "stdout",
     "output_type": "stream",
     "text": [
      "Values before swapped \n",
      "value of 'a' before swapped is 12000\n",
      "value of 'b' before swapped is 90\n",
      "values after swapped a is   90  and b is  12000\n"
     ]
    }
   ],
   "source": [
    "print(\"Values before swapped \")\n",
    "a = int(input(\"value of 'a' before swapped is \"))\n",
    "b = int(input(\"value of 'b' before swapped is \"))\n",
    "temp = a\n",
    "a = b\n",
    "b = temp\n",
    "print(\"values after swapped a is  \",a,\" and b is \",b)"
   ]
  },
  {
   "cell_type": "markdown",
   "metadata": {},
   "source": [
    "## 4. Write a program to swap two numbers in Python without using a temporary variable.\n",
    "\n"
   ]
  },
  {
   "cell_type": "code",
   "execution_count": 4,
   "metadata": {},
   "outputs": [
    {
     "name": "stdout",
     "output_type": "stream",
     "text": [
      "Values before swapped \n",
      "value of 'a' before swapped is 98\n",
      "value of 'b' before swapped is 89\n",
      "values after swapped a is   89  and b is  98\n"
     ]
    }
   ],
   "source": [
    "print(\"Values before swapped \")\n",
    "a = int(input(\"value of 'a' before swapped is \"))\n",
    "b = int(input(\"value of 'b' before swapped is \"))\n",
    "a = a + b\n",
    "b = a - b\n",
    "a = a - b\n",
    "print(\"values after swapped a is  \",a,\" and b is \",b)\n"
   ]
  },
  {
   "cell_type": "markdown",
   "metadata": {},
   "source": [
    "## 5. Write a program to convert fahrenheit to kelvin and celsius both.\n"
   ]
  },
  {
   "cell_type": "code",
   "execution_count": 5,
   "metadata": {},
   "outputs": [
    {
     "name": "stdout",
     "output_type": "stream",
     "text": [
      "without function\n",
      "Enter the Frhenheit 100\n",
      "Farhenheit to kelvin without Function is  311.27777777777777\n",
      "Farhenheit to celcius without Function  is 82.22222222222223\n",
      "with function\n",
      "Enter the farhenheit 100\n",
      "Farhenheit to kelvin with Function is  311.27777777777777\n",
      "Farhenheit to celcius with Function is  82.22222222222223\n"
     ]
    }
   ],
   "source": [
    "print('without function')\n",
    "a = float(input(\"Enter the Frhenheit \"))\n",
    "K = 273.5 + ((a- 32.0) * (5.0/9.0))\n",
    "print(\"Farhenheit to kelvin without Function is \",K)\n",
    "c = a -32.0 * (5.0/9.0)\n",
    "print(\"Farhenheit to celcius without Function  is\",c)  \n",
    "\n",
    "print('with function')     \n",
    "def farhenheit_to_kelvin_celsius(f):\n",
    "    k = 273.5 + ((f - 32.0) * (5.0/9.0))\n",
    "    print(\"Farhenheit to kelvin with Function is \",k)\n",
    "    c = f - 32.0 * (5.0/9.0)\n",
    "    print(\"Farhenheit to celcius with Function is \",c)   \n",
    "a = float(input(\"Enter the farhenheit \"))\n",
    "farhenheit_to_kelvin_celsius(a)"
   ]
  },
  {
   "cell_type": "markdown",
   "metadata": {},
   "source": [
    "## 6. Write a program to demonstrate all the available data types in Python. Hint: Use type() function."
   ]
  },
  {
   "cell_type": "code",
   "execution_count": 6,
   "metadata": {},
   "outputs": [
    {
     "name": "stdout",
     "output_type": "stream",
     "text": [
      "a <class 'int'>\n",
      "b <class 'float'>\n",
      "c <class 'complex'>\n",
      "d <class 'str'>\n",
      "e <class 'list'>\n",
      "f <class 'tuple'>\n",
      "g <class 'dict'>\n"
     ]
    }
   ],
   "source": [
    "a =1234\n",
    "print(\"a\",type(a))\n",
    "b = 11.11\n",
    "print(\"b\",type(b))\n",
    "c = 2 + 2j\n",
    "print(\"c\",type(c))\n",
    "d = \"hello\"\n",
    "print(\"d\",type(d))\n",
    "e = [1,2,3,4]\n",
    "print(\"e\",type(e))\n",
    "f = (1,2,3,4)\n",
    "print(\"f\",type(f))\n",
    "g={1:\"one\", 2:\"two\", 3:\"three\"}\n",
    "print(\"g\",type(g))\n"
   ]
  },
  {
   "cell_type": "markdown",
   "metadata": {},
   "source": [
    "## 7. Create a Markdown cell in jupyter and list the steps discussed in the session by Dr. Darshan Ingle sir to create Github profile and upload Githubs Assignment link."
   ]
  },
  {
   "cell_type": "markdown",
   "metadata": {},
   "source": [
    "### Ans. Steps discussed during the session by our trainer Dr. Darshan Ignle to create a Github profile and upload Githubs Assignment Link are as Follow:\n",
    "\n",
    "### step 1:-  First of all we have to go to https://github.com/ then we have to Login if we have account we can login via Gmail-id also in Github else, if we do not have an account then we have to sign up.\n",
    "\n",
    "### step 2 :-  After we have logged in or created an account in Github we have to go to start a project in Machine Learning it take us to the page where we can create our repository or we can simply go to create repository by exploring github.\n",
    "\n",
    "### step 3 :- Then after this we will have to create repository as LetsUpgrade AI/ML. We have to make this repository as public so we will not touch anything after that we will directly go to create repository.\n",
    "\n",
    "### step 4:- After creating the repo then we have to go Upload an existing file in the repo which we have created under the name LetsUpgrade AI/ML and we have to upload the assignment , we will have to upload the assignment in Day Folder from which day we have given the assignment. for example this is day 03 when i have been given the assignment so i will upload this assignment as Day 03 folder. \n",
    "\n",
    "### step 5 :- After uploading the assignment we have to copy the github link of the uploaded assignment.\\\n",
    "\n",
    "### step 6 :- After copying the link we have to open our Google Assignment Submission Page https://docs.google.com/forms/d/e/1FAIpQLSevTAqI8dJNbK9qDQA0POHMdKGaZqS9c7nO3W0ture1nNfqVg/viewform then we will have to submit all the required fields. We will  Have to Check whether our link works or not in incognito mode in Google Chrome before giving the link to the Assignment Submission Page. Then We will Have to click on Submit option and our Assignment will be submitted. \n",
    "\n"
   ]
  },
  {
   "cell_type": "code",
   "execution_count": null,
   "metadata": {},
   "outputs": [],
   "source": []
  }
 ],
 "metadata": {
  "kernelspec": {
   "display_name": "Python 3",
   "language": "python",
   "name": "python3"
  },
  "language_info": {
   "codemirror_mode": {
    "name": "ipython",
    "version": 3
   },
   "file_extension": ".py",
   "mimetype": "text/x-python",
   "name": "python",
   "nbconvert_exporter": "python",
   "pygments_lexer": "ipython3",
   "version": "3.7.6"
  }
 },
 "nbformat": 4,
 "nbformat_minor": 4
}
