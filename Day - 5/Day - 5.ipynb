{
 "cells": [
  {
   "cell_type": "markdown",
   "metadata": {},
   "source": [
    "## Q1. Write a Python program to find the first 20 non-even prime natural numbers.\n"
   ]
  },
  {
   "cell_type": "code",
   "execution_count": 1,
   "metadata": {},
   "outputs": [
    {
     "name": "stdout",
     "output_type": "stream",
     "text": [
      "Enter the First prime Numbers to find20\n",
      "Prime #1 is 3\n",
      "Prime #2 is 5\n",
      "Prime #3 is 7\n",
      "Prime #4 is 11\n",
      "Prime #5 is 13\n",
      "Prime #6 is 17\n",
      "Prime #7 is 19\n",
      "Prime #8 is 23\n",
      "Prime #9 is 29\n",
      "Prime #10 is 31\n",
      "Prime #11 is 37\n",
      "Prime #12 is 41\n",
      "Prime #13 is 43\n",
      "Prime #14 is 47\n",
      "Prime #15 is 53\n",
      "Prime #16 is 59\n",
      "Prime #17 is 61\n",
      "Prime #18 is 67\n",
      "Prime #19 is 71\n",
      "Prime #20 is 73\n"
     ]
    }
   ],
   "source": [
    "first_prime_numbers = int(input(\"Enter the First prime Numbers to find\"))\n",
    "count = 0\n",
    "potential_prime_non_even = 3\n",
    "def primecheck(potential_prime_non_even):\n",
    "    divisor = 2\n",
    "    while divisor <= potential_prime_non_even:\n",
    "        if potential_prime_non_even == 2:\n",
    "            return True\n",
    "        elif potential_prime_non_even % divisor ==0:\n",
    "            return False\n",
    "            break\n",
    "        while potential_prime_non_even % divisor !=0:\n",
    "            if potential_prime_non_even - divisor>1:\n",
    "                divisor +=1\n",
    "            else:\n",
    "                return True\n",
    "while count < int(first_prime_numbers):\n",
    "    if primecheck(potential_prime_non_even) == True:\n",
    "        print ('Prime #' + str(count + 1), 'is', potential_prime_non_even)\n",
    "        count += 1\n",
    "        potential_prime_non_even += 1\n",
    "    else:\n",
    "        potential_prime_non_even += 1     "
   ]
  },
  {
   "cell_type": "markdown",
   "metadata": {},
   "source": [
    "## Q 2 : Write a Python program to implement 15 functions of string."
   ]
  },
  {
   "cell_type": "code",
   "execution_count": 2,
   "metadata": {},
   "outputs": [
    {
     "name": "stdout",
     "output_type": "stream",
     "text": [
      "Enter the String   ,,Columbia , India , Romania\n",
      "1. isalnum() method : The String is alphanumeric or not.\n",
      " False\n",
      "2.isdigit() method : The String contains only digits.\n",
      " False\n",
      "3. isalpha() method: String contains only alphabetic characters.\n",
      " False\n",
      "4.isspace() method:  String contains only whitespace characters.\n",
      " False\n",
      "5.isupper() method: All letters in the string are uppercase.\n",
      " False\n",
      "6. islower() method: All letters in the string are lowercase.\n",
      " False\n",
      "7. ToLower Method: Convert String in lowercase:   ,,columbia , india , romania \n",
      "\n",
      "8. To Upper Method: Convert String in uppercase:   ,,COLUMBIA , INDIA , ROMANIA \n",
      "\n",
      "\n",
      "9. Left Strip Method: ,,Columbia , India , Romania\n",
      "\n",
      " 9. Left Strip with Character A: Columbia , India , Romania\n",
      "\n",
      " 10. Right Strip with Character a:   ,,Columbia , India , Romania\n",
      "\n",
      "11. Strip from both side : ,,Columbia , India , Romania\n",
      "\n",
      " 12. endswith check whether a string ends with a specified substring(ia) \n",
      "True\n",
      "\n",
      "13. startswith check if a string starts with a specified substring\n",
      "False\n",
      "\n",
      "14.  Find Method \n",
      "6\n",
      "-1\n",
      "9\n",
      "10\n",
      "-1\n",
      "\n",
      " 15.  Replace Method \n",
      "  ,,Columbia , India , Russia\n"
     ]
    }
   ],
   "source": [
    "user_string = input(\"Enter the String \")\n",
    "print(\"1. isalnum() method : The String is alphanumeric or not.\\n\",user_string.isalnum())\n",
    " \n",
    "print('2.isdigit() method : The String contains only digits.\\n',user_string.isdigit())\n",
    "\n",
    "print( '3. isalpha() method: String contains only alphabetic characters.\\n',user_string.isalpha())\n",
    "\n",
    "print('4.isspace() method:  String contains only whitespace characters.\\n',user_string.isspace())\n",
    " \n",
    "print('5.isupper() method: All letters in the string are uppercase.\\n',user_string.isupper())\n",
    "\n",
    "print( '6. islower() method: All letters in the string are lowercase.\\n',user_string.islower())\n",
    " \n",
    "\n",
    "toLower = user_string.lower()\n",
    "print( '7. ToLower Method: Convert String in lowercase:', toLower, '\\n')\n",
    " \n",
    "toUpper = user_string.upper()\n",
    "print('8. To Upper Method: Convert String in uppercase:', toUpper, '\\n')\n",
    " \n",
    "print('\\n9. Left Strip Method:', user_string.lstrip())\n",
    " \n",
    "print('\\n 9. Left Strip with Character A:', user_string.lstrip('  ,,'))\n",
    "print('\\n 10. Right Strip with Character a:', user_string.rstrip(',,'))\n",
    "\n",
    "print('\\n11. Strip from both side :', user_string.strip(  ))\n",
    "\n",
    "print('\\n 12. endswith check whether a string ends with a specified substring(ia) ')\n",
    "\n",
    "print(user_string.endswith('ia'))\n",
    "\n",
    "\n",
    "print('\\n13. startswith check if a string starts with a specified substring')\n",
    "print(user_string.startswith('Colum'))\n",
    "\n",
    "print('\\n14.  Find Method ')\n",
    "\n",
    "print(user_string.find('lumbia'))\n",
    "print(user_string.find('lol'))\n",
    "print(user_string.find('bia'))\n",
    "print(user_string.find('ia'))\n",
    "print(user_string.find('ind'))\n",
    "\n",
    "print('\\n 15.  Replace Method ')\n",
    "old = \"Romania\"\n",
    "new = \"Russia\"\n",
    "print(user_string.replace(old, new))"
   ]
  },
  {
   "cell_type": "markdown",
   "metadata": {},
   "source": [
    "## Q3. Write a Python program to check if the given string is a Palindrome or Anagram or None of them.\n",
    "## Display the message accordingly to the user.\n"
   ]
  },
  {
   "cell_type": "code",
   "execution_count": 3,
   "metadata": {},
   "outputs": [
    {
     "name": "stdout",
     "output_type": "stream",
     "text": [
      "Enter the first String dad\n",
      "Enter the Second String add\n",
      "The entered string string is Anagram \n",
      "Entered String is Pallindrome\n"
     ]
    }
   ],
   "source": [
    "str1 = str(input(\"Enter the first String \"))\n",
    "str2 = str(input(\"Enter the Second String \"))\n",
    "def pal_ana_detect():\n",
    "    if sorted(str1)==sorted(str2):\n",
    "        print(\"The entered string string is Anagram \")\n",
    "    if str1 == str1[::-1]:\n",
    "        print(\"Entered String is Pallindrome\")\n",
    "    else:\n",
    "        print(\"Entered string is neither a pallindrome nor an  anagram\")\n",
    "pal_ana_detect()"
   ]
  },
  {
   "cell_type": "markdown",
   "metadata": {},
   "source": [
    "## Q4. Write a Python's user defined function that removes all the additional characters from the string and converts it finally to lower case using built-in lower(). eg: If the string is \"Dr. Darshan Ingle @AI-ML Trainer\", then the output be \"drdarshaningle aimltrainer\"."
   ]
  },
  {
   "cell_type": "code",
   "execution_count": 4,
   "metadata": {},
   "outputs": [
    {
     "name": "stdout",
     "output_type": "stream",
     "text": [
      "Enter the string Amit,              ++++++   --------------------------    @!@@@@      !$Kumar\n",
      "amitkumar"
     ]
    }
   ],
   "source": [
    "def remove_char():\n",
    "    str = input(\"Enter the string \")\n",
    "    for i in str:\n",
    "        if i.isalpha():\n",
    "            print(i.lower(),end=\"\")\n",
    "            \n",
    "remove_char()"
   ]
  },
  {
   "cell_type": "code",
   "execution_count": null,
   "metadata": {},
   "outputs": [],
   "source": []
  }
 ],
 "metadata": {
  "kernelspec": {
   "display_name": "Python 3",
   "language": "python",
   "name": "python3"
  },
  "language_info": {
   "codemirror_mode": {
    "name": "ipython",
    "version": 3
   },
   "file_extension": ".py",
   "mimetype": "text/x-python",
   "name": "python",
   "nbconvert_exporter": "python",
   "pygments_lexer": "ipython3",
   "version": "3.7.6"
  }
 },
 "nbformat": 4,
 "nbformat_minor": 4
}
