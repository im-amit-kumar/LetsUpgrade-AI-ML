{
 "cells": [
  {
   "cell_type": "markdown",
   "metadata": {},
   "source": [
    " Question 1. Assuming that we have some email addresses in the \"username@companyname.com\" format, please write program to print the company name of a given email address. Both user names and company names are composed of letters only.\n",
    " \n",
    " Input Format:\n",
    " \n",
    " The first line of the input contains an email address.\n",
    " \n",
    " Output Format:\n",
    " \n",
    " Print the company name in single line.\n",
    " \n",
    " Example;\n",
    " \n",
    " Input:\n",
    " \n",
    " john@google.com\n",
    " \n",
    " Output:\n",
    " \n",
    " google\n"
   ]
  },
  {
   "cell_type": "code",
   "execution_count": 1,
   "metadata": {},
   "outputs": [
    {
     "name": "stdout",
     "output_type": "stream",
     "text": [
      "Enter your eamil-id pleaseamit@google.com\n",
      "You email-address provider is\n",
      " google\n"
     ]
    }
   ],
   "source": [
    "import re\n",
    "email_address = input(\"Enter your eamil-id please\")\n",
    "search = \"(\\w+)@(\\w+)\\.(\\w+)\"\n",
    "mail_company = re.match(search,email_address)\n",
    "print(\"You email-address provider is\\n\",mail_company.group(2))\n"
   ]
  },
  {
   "cell_type": "markdown",
   "metadata": {},
   "source": [
    "Question 2.Write a program that accepts a comma-separated sequence of words as input and prints the words in a comma separated sequence after sorting them alphabetically.\n",
    "\n",
    "Input Format:\n",
    "\n",
    "The first line of input contains words separated by the comma.\n",
    "\n",
    "Output Format:\n",
    "\n",
    "Print the sorted words separated by the comma.\n",
    "\n",
    "Example:\n",
    "\n",
    "Input:\n",
    "\n",
    "without,hello,bag,world\n",
    "\n",
    "Output:\n",
    "\n",
    "bag,hello,without,world"
   ]
  },
  {
   "cell_type": "code",
   "execution_count": 2,
   "metadata": {},
   "outputs": [
    {
     "name": "stdout",
     "output_type": "stream",
     "text": [
      "Enter the items which you want to sort heelo,i,am,amit\n",
      "Sorted items are :-  am,amit,heelo,i\n"
     ]
    }
   ],
   "source": [
    "without_sort =input(\"Enter the items which you want to sort \")\n",
    "comma_store=[x for x in without_sort.split(',')]\n",
    "comma_store.sort()\n",
    "\n",
    "print (\"Sorted items are :- \",','.join(comma_store))"
   ]
  },
  {
   "cell_type": "markdown",
   "metadata": {},
   "source": [
    "Question 4:\n",
    "Given a list of n-1 numbers ranging from 1 to n, your task is to find the missing number. There are no duplicates.\n",
    "\n",
    "Input Format:\n",
    "The first line contains n-1 numbers with each number separated by a space.\n",
    "\n",
    "Output Format:\n",
    "\n",
    "Print the missing number\n",
    "\n",
    "Example:\n",
    "\n",
    "Input:1 2 4 6 3 7 8\n",
    "\n",
    "Output:5\n",
    "\n",
    "Explanation:\n",
    "\n",
    "In the above list of numbers 5 is missing and hence 5 is the input"
   ]
  },
  {
   "cell_type": "code",
   "execution_count": 3,
   "metadata": {},
   "outputs": [
    {
     "name": "stdout",
     "output_type": "stream",
     "text": [
      "5.0\n"
     ]
    }
   ],
   "source": [
    "#First Approach\n",
    "def getMissingNo(A):\n",
    "    n = len(A)\n",
    "    total = (n + 1)*(n + 2)/2\n",
    "    sum_of_A = sum(A) \n",
    "    return total - sum_of_A \n",
    "  \n",
    "# Driver program to test the above function \n",
    "\n",
    "A = [1, 2, 3,4, 6] \n",
    "miss = getMissingNo(A) \n",
    "print(miss) "
   ]
  },
  {
   "cell_type": "code",
   "execution_count": 4,
   "metadata": {},
   "outputs": [
    {
     "name": "stdout",
     "output_type": "stream",
     "text": [
      "Enter the numbers in the form 1 to n-1 in range with missing numbers 1,2,3,5,6\n",
      "missing values are  [4]\n"
     ]
    }
   ],
   "source": [
    "#second Approach\n",
    "string_input = input(\"Enter the numbers in the form 1 to n-1 in range with missing numbers \")\n",
    "string_input = string_input.split(\",\")\n",
    "list_num =[]\n",
    "result_list=[]\n",
    "for i in string_input:\n",
    "    if i.isnumeric():\n",
    "        list_num.append(int(i))\n",
    "for i in range(1,max(list_num)+1):\n",
    "    if i not in list_num:\n",
    "        result_list.append(i)\n",
    "print(\"missing values are \",result_list)"
   ]
  },
  {
   "cell_type": "markdown",
   "metadata": {},
   "source": [
    "Question 5 .With a given list L, write a program to print this list L after removing all duplicate values with original order reserved.\n",
    "\n",
    "Example:\n",
    "\n",
    "If the input list is\n",
    "\n",
    "12 24 35 24 88 120 155 88 120 155\n",
    "\n",
    "Then the output should be\n",
    "\n",
    "12 24 35 88 120 155\n",
    "\n",
    "Explanation:\n",
    "\n",
    "Third, seventh and ninth element of the list L has been removed because it was already present.\n",
    "\n",
    "Input Format:\n",
    "\n",
    "In one line take the elements of the list L with each element separated by a space.\n",
    "\n",
    "Output Format:\n",
    "\n",
    "Print the elements of the modified list in one line with each element separated by a space.\n",
    "\n",
    "Example:\n",
    "\n",
    "Input: 12 24 35 24\n",
    "\n",
    "Output:\n",
    "12 24 35"
   ]
  },
  {
   "cell_type": "code",
   "execution_count": 5,
   "metadata": {},
   "outputs": [
    {
     "name": "stdout",
     "output_type": "stream",
     "text": [
      "Enter the elements 9 11 34 11 56 76 56\n",
      "Now the List with removed Duplicates are as follows  9 11 34 56 76\n"
     ]
    }
   ],
   "source": [
    "#first Approach\n",
    "list_with_duplicates= input(\"Enter the elements \").split()\n",
    "list_rem_dup = list(dict.fromkeys(list_with_duplicates))\n",
    "print(\"Now the List with removed Duplicates are as follows \", *list_rem_dup)"
   ]
  },
  {
   "cell_type": "code",
   "execution_count": 6,
   "metadata": {},
   "outputs": [
    {
     "name": "stdout",
     "output_type": "stream",
     "text": [
      "Enter the number of elements in list:5\n",
      "Enter element1:11\n",
      "Enter element2:22\n",
      "Enter element3:11\n",
      "Enter element4:89\n",
      "Enter element5:98\n",
      "Non-duplicate items:\n",
      "[11, 22, 89, 98]\n"
     ]
    }
   ],
   "source": [
    "#second Approach\n",
    "a=[]\n",
    "n= int(input(\"Enter the number of elements in list:\"))\n",
    "for x in range(0,n):\n",
    "    element=int(input(\"Enter element\" + str(x+1) + \":\"))\n",
    "    a.append(element)\n",
    "b = set()\n",
    "unique = []\n",
    "for x in a:\n",
    "    if x not in b:\n",
    "        unique.append(x)\n",
    "        b.add(x)\n",
    "print(\"Non-duplicate items:\")\n",
    "print(unique)"
   ]
  },
  {
   "cell_type": "code",
   "execution_count": null,
   "metadata": {},
   "outputs": [],
   "source": []
  },
  {
   "cell_type": "code",
   "execution_count": null,
   "metadata": {},
   "outputs": [],
   "source": []
  }
 ],
 "metadata": {
  "kernelspec": {
   "display_name": "Python 3",
   "language": "python",
   "name": "python3"
  },
  "language_info": {
   "codemirror_mode": {
    "name": "ipython",
    "version": 3
   },
   "file_extension": ".py",
   "mimetype": "text/x-python",
   "name": "python",
   "nbconvert_exporter": "python",
   "pygments_lexer": "ipython3",
   "version": "3.7.6"
  }
 },
 "nbformat": 4,
 "nbformat_minor": 4
}
