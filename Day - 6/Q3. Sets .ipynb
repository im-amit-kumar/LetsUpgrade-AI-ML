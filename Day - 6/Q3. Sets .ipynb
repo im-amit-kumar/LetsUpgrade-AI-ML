{
 "cells": [
  {
   "cell_type": "markdown",
   "metadata": {},
   "source": [
    "Question 3: Create your own Jupyter Notebook for Sets"
   ]
  },
  {
   "cell_type": "markdown",
   "metadata": {},
   "source": [
    "Set is another data structure supported by Python. Basically, sets are same as lists but with a difference that sets are lists with a difference that sets are lists with no duplicate entries.Technically, a set is a mutable and an unoredred collection od items.This means that we can simply add or remove items from it.\n",
    "\n",
    "Set Methods\n",
    "Python has a set of built-in methods that you can use on sets.\n",
    "\n",
    "Method                      Description\n",
    "\n",
    "add()\t                    Adds an element to the set\n",
    "\n",
    "clear()                     Removes all the elements from the set\n",
    "\n",
    "copy()\t                    Returns a copy of the set\n",
    "\n",
    "difference()\t            Returns a set containing the difference between two or more sets\n",
    "\n",
    "difference_update()\t        Removes the items in this set that are also included in    another,specified set\n",
    "\n",
    "discard()                   Remove the specified item\n",
    "\n",
    "intersection()\t            Returns a set, that is the intersection of two other sets\n",
    "\n",
    "intersection_update()\t    Removes the items in this set that are not present in other, \n",
    "\n",
    "isdisjoint()\t            Returns whether two sets have a intersection or not\n",
    "\n",
    "issubset()\t                Returns whether another set contains this set or not\n",
    "\n",
    "issuperset()\t            Returns whether this set contains another set or not\n",
    "\n",
    "pop()\t                    Removes an element from the set\n",
    "\n",
    "remove()\t                Removes the specified element\n",
    "\n",
    "symmetric_difference()\t    Returns a set with the symmetric differences of two sets\n",
    "\n",
    "symmetric_difference_update()\tinserts the symmetric differences from this set and another\n",
    "\n",
    "union()\t                   Return a set containing the union of sets\n",
    "\n",
    "update()\t                Update the set with the union of this set and others"
   ]
  },
  {
   "cell_type": "markdown",
   "metadata": {},
   "source": [
    "Create a set"
   ]
  },
  {
   "cell_type": "code",
   "execution_count": 1,
   "metadata": {},
   "outputs": [
    {
     "name": "stdout",
     "output_type": "stream",
     "text": [
      "{'cherry', 'banana', 'apple'}\n"
     ]
    }
   ],
   "source": [
    "set = {\"apple\", \"banana\", \"cherry\"}\n",
    "print(set)"
   ]
  },
  {
   "cell_type": "markdown",
   "metadata": {},
   "source": [
    "Access Items\n",
    "\n",
    "You cannot access items in a set by referring to an index like List, since sets are unordered the items has no index.\n",
    "\n",
    "But you can loop through the set items using a for loop, or ask if a specified value is present in a set, by using the in keyword."
   ]
  },
  {
   "cell_type": "code",
   "execution_count": 2,
   "metadata": {},
   "outputs": [
    {
     "name": "stdout",
     "output_type": "stream",
     "text": [
      "cherry\n",
      "banana\n",
      "apple\n"
     ]
    }
   ],
   "source": [
    "set = {\"apple\", \"banana\", \"cherry\"}\n",
    "for x in set:\n",
    "    print(x)"
   ]
  },
  {
   "cell_type": "markdown",
   "metadata": {},
   "source": [
    "Check if apple is present in Set"
   ]
  },
  {
   "cell_type": "code",
   "execution_count": 3,
   "metadata": {},
   "outputs": [
    {
     "name": "stdout",
     "output_type": "stream",
     "text": [
      "True\n"
     ]
    }
   ],
   "source": [
    "set = {\"apple\", \"banana\", \"cherry\"}\n",
    "print(\"apple\" in set)"
   ]
  },
  {
   "cell_type": "markdown",
   "metadata": {},
   "source": [
    "Change Items\n",
    "\n",
    "We cannot change the items in a set,once a set is created but you can add new items.\n",
    "\n",
    "Add Items\n",
    "\n",
    "To add one item to a set use the add() method.\n",
    "\n",
    "To add more than one item to a set use the update() method."
   ]
  },
  {
   "cell_type": "code",
   "execution_count": 4,
   "metadata": {},
   "outputs": [
    {
     "name": "stdout",
     "output_type": "stream",
     "text": [
      "{'strawberry', 'cherry', 'banana', 'apple'}\n"
     ]
    }
   ],
   "source": [
    "#adding an item to the set\n",
    "set = {\"apple\", \"banana\", \"cherry\"}\n",
    "set.add(\"strawberry\")\n",
    "print(set)"
   ]
  },
  {
   "cell_type": "code",
   "execution_count": 5,
   "metadata": {},
   "outputs": [
    {
     "name": "stdout",
     "output_type": "stream",
     "text": [
      "{'orange', 'banana', 'mango', 'grapes', 'cherry', 'apple'}\n"
     ]
    }
   ],
   "source": [
    "#update\n",
    "set = {\"apple\", \"banana\", \"cherry\"}\n",
    "\n",
    "\n",
    "set.update([\"orange\", \"mango\", \"grapes\"])\n",
    "\n",
    "print(set)"
   ]
  },
  {
   "cell_type": "markdown",
   "metadata": {},
   "source": [
    "We can also get the length of a dataset"
   ]
  },
  {
   "cell_type": "code",
   "execution_count": 6,
   "metadata": {},
   "outputs": [
    {
     "name": "stdout",
     "output_type": "stream",
     "text": [
      "3\n"
     ]
    }
   ],
   "source": [
    "set = {\"apple\", \"banana\", \"cherry\"}\n",
    "print(len(set))"
   ]
  },
  {
   "cell_type": "markdown",
   "metadata": {},
   "source": [
    "Remove an item\n",
    "\n",
    "We can also remove an item in a dataset by using the remove(), or the discard() method."
   ]
  },
  {
   "cell_type": "code",
   "execution_count": 7,
   "metadata": {},
   "outputs": [
    {
     "name": "stdout",
     "output_type": "stream",
     "text": [
      "{'cherry', 'apple'}\n"
     ]
    }
   ],
   "source": [
    "#Remove\n",
    "set = {\"apple\", \"banana\", \"cherry\"}\n",
    "\n",
    "set.remove(\"banana\")\n",
    "\n",
    "print(set)"
   ]
  },
  {
   "cell_type": "code",
   "execution_count": 8,
   "metadata": {},
   "outputs": [
    {
     "name": "stdout",
     "output_type": "stream",
     "text": [
      "{'cherry', 'apple'}\n"
     ]
    }
   ],
   "source": [
    "#Discard\n",
    "set = {\"apple\", \"banana\", \"cherry\"}\n",
    "\n",
    "set.discard(\"banana\")\n",
    "\n",
    "print(set)"
   ]
  },
  {
   "cell_type": "markdown",
   "metadata": {},
   "source": [
    "You can also use the pop(), method to remove an item, but this method will remove the last item. Remember that sets are unordered, so you will not know what item that gets removed.\n",
    "\n",
    "The return value of the pop() method is the removed item.\n",
    "\n",
    "Note: Sets are unordered, so when using the pop() method, you will not know which item that gets removed."
   ]
  },
  {
   "cell_type": "code",
   "execution_count": 9,
   "metadata": {},
   "outputs": [
    {
     "name": "stdout",
     "output_type": "stream",
     "text": [
      "cherry\n",
      "{'banana', 'apple'}\n"
     ]
    }
   ],
   "source": [
    "set = {\"apple\", \"banana\", \"cherry\"}\n",
    "\n",
    "x = set.pop()\n",
    "\n",
    "print(x)\n",
    "\n",
    "print(set)"
   ]
  },
  {
   "cell_type": "markdown",
   "metadata": {},
   "source": [
    "Clear()\n",
    "\n",
    "The clear() method empties the set:\n",
    "\n"
   ]
  },
  {
   "cell_type": "code",
   "execution_count": 10,
   "metadata": {},
   "outputs": [
    {
     "name": "stdout",
     "output_type": "stream",
     "text": [
      "set()\n"
     ]
    }
   ],
   "source": [
    "set = {\"apple\", \"banana\", \"cherry\"}\n",
    "\n",
    "set.clear()\n",
    "\n",
    "print(set)"
   ]
  },
  {
   "cell_type": "markdown",
   "metadata": {},
   "source": [
    "Del()\n",
    "\n",
    "The del keyword will delete the set completely:\n",
    "\n"
   ]
  },
  {
   "cell_type": "code",
   "execution_count": 11,
   "metadata": {},
   "outputs": [
    {
     "name": "stdout",
     "output_type": "stream",
     "text": [
      "<class 'set'>\n"
     ]
    }
   ],
   "source": [
    "set = {\"apple\", \"banana\", \"cherry\"}\n",
    "\n",
    "del set\n",
    "\n",
    "print(set)"
   ]
  },
  {
   "cell_type": "markdown",
   "metadata": {},
   "source": [
    "Join Two Sets\n",
    "\n",
    "There are several ways to join two or more sets in Python.\n",
    "\n",
    "You can use the union() method that returns a new set containing all items from both sets, or the update() method that inserts all the items from one set into another.Here we will see the joining of two sets with the help of union function"
   ]
  },
  {
   "cell_type": "code",
   "execution_count": 12,
   "metadata": {},
   "outputs": [
    {
     "name": "stdout",
     "output_type": "stream",
     "text": [
      "{1, 2, 3, 'a', 'c', 'b'}\n"
     ]
    }
   ],
   "source": [
    "set1 = {\"a\", \"b\" , \"c\"}\n",
    "set2 = {1, 2, 3}\n",
    "\n",
    "set3 = set1.union(set2)\n",
    "print(set3)"
   ]
  },
  {
   "cell_type": "markdown",
   "metadata": {},
   "source": [
    "The set() Constructor\n",
    "\n",
    "It is also possible to use the set() constructor to make a set."
   ]
  },
  {
   "cell_type": "code",
   "execution_count": 13,
   "metadata": {},
   "outputs": [
    {
     "name": "stdout",
     "output_type": "stream",
     "text": [
      "{'cherry', 'banana', 'apple'}\n"
     ]
    }
   ],
   "source": [
    "set = set((\"apple\", \"banana\", \"cherry\"))\n",
    "print(set)"
   ]
  },
  {
   "cell_type": "code",
   "execution_count": null,
   "metadata": {},
   "outputs": [],
   "source": []
  }
 ],
 "metadata": {
  "kernelspec": {
   "display_name": "Python 3",
   "language": "python",
   "name": "python3"
  },
  "language_info": {
   "codemirror_mode": {
    "name": "ipython",
    "version": 3
   },
   "file_extension": ".py",
   "mimetype": "text/x-python",
   "name": "python",
   "nbconvert_exporter": "python",
   "pygments_lexer": "ipython3",
   "version": "3.7.6"
  }
 },
 "nbformat": 4,
 "nbformat_minor": 4
}
